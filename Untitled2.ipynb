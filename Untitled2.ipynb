{
 "cells": [
  {
   "cell_type": "code",
   "execution_count": 1,
   "metadata": {},
   "outputs": [],
   "source": [
    "import os\n",
    "import pandas as pd\n",
    "import geopandas\n",
    "import fiona\n",
    "import numpy as np\n",
    "import os\n",
    "import csv"
   ]
  },
  {
   "cell_type": "code",
   "execution_count": 2,
   "metadata": {},
   "outputs": [],
   "source": [
    "beer_data = pd.read_json(\"open-beer-database.json\")"
   ]
  },
  {
   "cell_type": "code",
   "execution_count": 3,
   "metadata": {},
   "outputs": [
    {
     "data": {
      "text/html": [
       "<div>\n",
       "<style scoped>\n",
       "    .dataframe tbody tr th:only-of-type {\n",
       "        vertical-align: middle;\n",
       "    }\n",
       "\n",
       "    .dataframe tbody tr th {\n",
       "        vertical-align: top;\n",
       "    }\n",
       "\n",
       "    .dataframe thead th {\n",
       "        text-align: right;\n",
       "    }\n",
       "</style>\n",
       "<table border=\"1\" class=\"dataframe\">\n",
       "  <thead>\n",
       "    <tr style=\"text-align: right;\">\n",
       "      <th></th>\n",
       "      <th>datasetid</th>\n",
       "      <th>recordid</th>\n",
       "      <th>fields</th>\n",
       "      <th>geometry</th>\n",
       "      <th>record_timestamp</th>\n",
       "    </tr>\n",
       "  </thead>\n",
       "  <tbody>\n",
       "    <tr>\n",
       "      <th>0</th>\n",
       "      <td>open-beer-database@public-us</td>\n",
       "      <td>76ea1712b537ab0cf0cacb8265fbed3fc422fe46</td>\n",
       "      <td>{'website': 'http://www.michiganbrewing.com/',...</td>\n",
       "      <td>{'type': 'Point', 'coordinates': [-84.1946, 42...</td>\n",
       "      <td>2016-09-26T00:21:38.074-04:00</td>\n",
       "    </tr>\n",
       "    <tr>\n",
       "      <th>1</th>\n",
       "      <td>open-beer-database@public-us</td>\n",
       "      <td>d63c8dcbf0e96f79a5b6b16b92e882dbe86db3a0</td>\n",
       "      <td>{'website': 'http://www.bigbuck.com/gaylord.ht...</td>\n",
       "      <td>{'type': 'Point', 'coordinates': [-84.6826, 45...</td>\n",
       "      <td>2016-09-26T00:21:38.074-04:00</td>\n",
       "    </tr>\n",
       "    <tr>\n",
       "      <th>2</th>\n",
       "      <td>open-beer-database@public-us</td>\n",
       "      <td>4e879b5db763b7e22c2029adaac8d886e8491bbe</td>\n",
       "      <td>{'brewery_id': '879', 'city': 'Billings', 'nam...</td>\n",
       "      <td>{'type': 'Point', 'coordinates': [-108.506, 45...</td>\n",
       "      <td>2016-09-26T00:21:38.074-04:00</td>\n",
       "    </tr>\n",
       "    <tr>\n",
       "      <th>3</th>\n",
       "      <td>open-beer-database@public-us</td>\n",
       "      <td>8731c6772b7401a87aad6ce9f48f8ad607158f89</td>\n",
       "      <td>{'brewery_id': '901', 'city': 'Papillion', 'na...</td>\n",
       "      <td>{'type': 'Point', 'coordinates': [-96.0307, 41...</td>\n",
       "      <td>2016-09-26T00:21:38.074-04:00</td>\n",
       "    </tr>\n",
       "    <tr>\n",
       "      <th>4</th>\n",
       "      <td>open-beer-database@public-us</td>\n",
       "      <td>62a2774a7562163d8d4ab0db6640d9fc8ae4dad2</td>\n",
       "      <td>{'brewery_id': '122', 'city': 'Missoula', 'nam...</td>\n",
       "      <td>{'type': 'Point', 'coordinates': [-114.073, 46...</td>\n",
       "      <td>2016-09-26T00:21:38.074-04:00</td>\n",
       "    </tr>\n",
       "  </tbody>\n",
       "</table>\n",
       "</div>"
      ],
      "text/plain": [
       "                      datasetid                                  recordid  \\\n",
       "0  open-beer-database@public-us  76ea1712b537ab0cf0cacb8265fbed3fc422fe46   \n",
       "1  open-beer-database@public-us  d63c8dcbf0e96f79a5b6b16b92e882dbe86db3a0   \n",
       "2  open-beer-database@public-us  4e879b5db763b7e22c2029adaac8d886e8491bbe   \n",
       "3  open-beer-database@public-us  8731c6772b7401a87aad6ce9f48f8ad607158f89   \n",
       "4  open-beer-database@public-us  62a2774a7562163d8d4ab0db6640d9fc8ae4dad2   \n",
       "\n",
       "                                              fields  \\\n",
       "0  {'website': 'http://www.michiganbrewing.com/',...   \n",
       "1  {'website': 'http://www.bigbuck.com/gaylord.ht...   \n",
       "2  {'brewery_id': '879', 'city': 'Billings', 'nam...   \n",
       "3  {'brewery_id': '901', 'city': 'Papillion', 'na...   \n",
       "4  {'brewery_id': '122', 'city': 'Missoula', 'nam...   \n",
       "\n",
       "                                            geometry  \\\n",
       "0  {'type': 'Point', 'coordinates': [-84.1946, 42...   \n",
       "1  {'type': 'Point', 'coordinates': [-84.6826, 45...   \n",
       "2  {'type': 'Point', 'coordinates': [-108.506, 45...   \n",
       "3  {'type': 'Point', 'coordinates': [-96.0307, 41...   \n",
       "4  {'type': 'Point', 'coordinates': [-114.073, 46...   \n",
       "\n",
       "                record_timestamp  \n",
       "0  2016-09-26T00:21:38.074-04:00  \n",
       "1  2016-09-26T00:21:38.074-04:00  \n",
       "2  2016-09-26T00:21:38.074-04:00  \n",
       "3  2016-09-26T00:21:38.074-04:00  \n",
       "4  2016-09-26T00:21:38.074-04:00  "
      ]
     },
     "execution_count": 3,
     "metadata": {},
     "output_type": "execute_result"
    }
   ],
   "source": [
    "beer_data.head()"
   ]
  },
  {
   "cell_type": "code",
   "execution_count": 4,
   "metadata": {},
   "outputs": [
    {
     "data": {
      "text/plain": [
       "datasetid           5973\n",
       "recordid            5973\n",
       "fields              5973\n",
       "geometry            5746\n",
       "record_timestamp    5973\n",
       "dtype: int64"
      ]
     },
     "execution_count": 4,
     "metadata": {},
     "output_type": "execute_result"
    }
   ],
   "source": [
    "beer_data.count()"
   ]
  },
  {
   "cell_type": "code",
   "execution_count": null,
   "metadata": {},
   "outputs": [],
   "source": []
  }
 ],
 "metadata": {
  "kernelspec": {
   "display_name": "Python 3",
   "language": "python",
   "name": "python3"
  },
  "language_info": {
   "codemirror_mode": {
    "name": "ipython",
    "version": 3
   },
   "file_extension": ".py",
   "mimetype": "text/x-python",
   "name": "python",
   "nbconvert_exporter": "python",
   "pygments_lexer": "ipython3",
   "version": "3.6.10"
  }
 },
 "nbformat": 4,
 "nbformat_minor": 4
}
